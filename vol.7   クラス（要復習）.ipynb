{
 "cells": [
  {
   "cell_type": "code",
   "execution_count": 3,
   "metadata": {},
   "outputs": [
    {
     "name": "stdout",
     "output_type": "stream",
     "text": [
      "0\n",
      "1\n"
     ]
    }
   ],
   "source": [
    "l1 = [\"a\",\"p\",\"p\",\"l\",\"e\"]\n",
    "l2 = [\"b\",\"a\",\"n\",\"a\",\"n\",\"a\"]\n",
    "print(l1.index(\"a\"))\n",
    "print(l2.index(\"a\")) "
   ]
  },
  {
   "cell_type": "code",
   "execution_count": 4,
   "metadata": {},
   "outputs": [
    {
     "name": "stdout",
     "output_type": "stream",
     "text": [
      "4 10 2\n",
      "2\n"
     ]
    }
   ],
   "source": [
    "r = range(4,10,2)\n",
    "print(r.start,r.stop,r.step)\n",
    "print(r.index(8))"
   ]
  },
  {
   "cell_type": "code",
   "execution_count": 10,
   "metadata": {},
   "outputs": [],
   "source": [
    "class Rectangle():  # 長方形のクラス\n",
    "    def __init__(self,height,width):\n",
    "        self.height = height\n",
    "        self.width = width"
   ]
  },
  {
   "cell_type": "code",
   "execution_count": 11,
   "metadata": {},
   "outputs": [
    {
     "name": "stdout",
     "output_type": "stream",
     "text": [
      "長方形の高さ 2\n",
      "長方形の幅 3\n"
     ]
    }
   ],
   "source": [
    "r = Rectangle(2,3)\n",
    "print(\"長方形の高さ\",r.height)\n",
    "print(\"長方形の幅\",r.width)"
   ]
  },
  {
   "cell_type": "code",
   "execution_count": 16,
   "metadata": {},
   "outputs": [],
   "source": [
    "class Rectangle():\n",
    "    def __init__(self,height,width):\n",
    "        self.height = height\n",
    "        self.width = width\n",
    "        \n",
    "    def print_status(self):\n",
    "        print(\"高さ\",self.height)\n",
    "        print(\"幅\",self.width)\n",
    "        \n",
    "    def area(self):\n",
    "        return self.height*self.width"
   ]
  },
  {
   "cell_type": "code",
   "execution_count": 17,
   "metadata": {},
   "outputs": [
    {
     "name": "stdout",
     "output_type": "stream",
     "text": [
      "6\n"
     ]
    }
   ],
   "source": [
    "r = Rectangle(2,3)\n",
    "print(r.area())"
   ]
  },
  {
   "cell_type": "code",
   "execution_count": null,
   "metadata": {},
   "outputs": [],
   "source": []
  }
 ],
 "metadata": {
  "kernelspec": {
   "display_name": "Python 3",
   "language": "python",
   "name": "python3"
  },
  "language_info": {
   "codemirror_mode": {
    "name": "ipython",
    "version": 3
   },
   "file_extension": ".py",
   "mimetype": "text/x-python",
   "name": "python",
   "nbconvert_exporter": "python",
   "pygments_lexer": "ipython3",
   "version": "3.5.1"
  }
 },
 "nbformat": 4,
 "nbformat_minor": 2
}
