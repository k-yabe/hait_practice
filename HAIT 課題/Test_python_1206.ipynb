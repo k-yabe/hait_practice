{
 "cells": [
  {
   "cell_type": "markdown",
   "metadata": {},
   "source": [
    "# 小テスト(全2問)\n",
    "## 第1問\n",
    "日本円を別の通貨に換算する**クラス「YenToCurrency」**を作成してください。\n",
    "\n",
    "条件\n",
    "\n",
    "1. 換算するのはドル(doll),ユーロ(euro)の2つの通貨です。\n",
    "2. 1ドル=100円, 1ユーロ=120円で換算してください。\n",
    "3. クラスの引数に日本円を入力して、その値を各通貨に換算できるようにします。\n",
    "\n",
    "例\n",
    "\n",
    "exchange = YenToCurrency(100)\n",
    "\n",
    "print('100円は{}ドルです。'.format(exchange.doll()))\n",
    "\n",
    "と入力すると<font color=\"Red\">**\"100円は1.0ドルです。\"**</font>と表示されるようにしてください。"
   ]
  },
  {
   "cell_type": "code",
   "execution_count": null,
   "metadata": {
    "collapsed": true
   },
   "outputs": [],
   "source": [
    "# 穴埋めするような形でコードを記述してください。\n",
    "class YenToCurrency:\n",
    "    def __init__(self,yen):\n",
    "        #ここを埋めてください。\n",
    "        \n",
    "    def doll(self):\n",
    "        #ここを埋めてください。\n",
    "        \n",
    "    def euro(self):\n",
    "        #ここを埋めてください。\n",
    "\n",
    "\n",
    "#正しくできているか確認するために1200円をドル・ユーロに換算して例のように出力してください。\n",
    "\n",
    "\n",
    "\n"
   ]
  },
  {
   "cell_type": "markdown",
   "metadata": {},
   "source": [
    "## 第2問\n",
    "### 1) pandas.DataFrameを用いて、以下の表を作成してください。\n",
    "\n",
    "<img src=\"https://s3-ap-northeast-1.amazonaws.com/ai-std/hait1.png\" width=30%>"
   ]
  },
  {
   "cell_type": "markdown",
   "metadata": {},
   "source": [
    "## データ(コピペに使ってください)\n",
    "### ダブルクリックで開くと使えます\n",
    "\n",
    "[パターン1]\n",
    "'Yutaro', 1997, 175, 57, 'M'\n",
    "'Koki', 1995, 183, 70, 'M'\n",
    "'Ayumi', 1993, 162, 46, 'F'\n",
    "'Manami', 1998, 158, 39, 'F'\n",
    "'Daichi', 1995, 172, 70, 'M'\n",
    "'Tomoya', 1996, 164, 58, 'M'\n",
    "'Rika', 1989, 168, 48, 'F'\n",
    "'Yui', 1988, 171, 49, 'F'\n",
    "'Kenta', 1985, 167, 67, 'M'\n",
    "'Mariko', 1991, 165, 51, 'F'\n",
    "\n",
    "[パターン2]\n",
    "'Yutaro', 'Koki', 'Ayumi', 'Manami', 'Daichi', 'Tomoya', 'Rika', 'Yui', 'Kenta', 'Mariko'\n",
    "1997, 1995, 1993, 1998, 1995, 1996, 1989, 1988, 1985, 1991\n",
    "175, 183, 162, 158, 172, 164, 168, 171, 167, 165\n",
    "57, 70, 46, 39, 70, 58, 48, 49, 67, 51\n",
    "'M', 'M', 'F', 'F', 'M', 'M', 'F', 'F', 'M', 'F'"
   ]
  },
  {
   "cell_type": "code",
   "execution_count": null,
   "metadata": {
    "collapsed": true
   },
   "outputs": [],
   "source": [
    "#データフレームの名前は「data」で定義してください。\n",
    "#最後に表を出力させてください。\n",
    "#ここを埋めてください。\n",
    "\n",
    "\n",
    "\n"
   ]
  },
  {
   "cell_type": "markdown",
   "metadata": {},
   "source": [
    "### 2) 生まれた年が**1995年よりも前の人だけ**を表から取り出してください。"
   ]
  },
  {
   "cell_type": "code",
   "execution_count": null,
   "metadata": {
    "collapsed": true
   },
   "outputs": [],
   "source": [
    "#[]の中を埋めてください。\n",
    "data2 = data[]\n",
    "data2"
   ]
  },
  {
   "cell_type": "markdown",
   "metadata": {},
   "source": [
    "### 3) 横軸を身長に縦軸を体重にとった、以下のような散布図を作成してください。\n",
    "\n",
    "<img src=\"https://s3-ap-northeast-1.amazonaws.com/ai-std/hait2.png\" width=60%>"
   ]
  },
  {
   "cell_type": "code",
   "execution_count": null,
   "metadata": {
    "collapsed": true
   },
   "outputs": [],
   "source": [
    "import matplotlib.pyplot as plt\n",
    "% matplotlib inline\n",
    "\n",
    "#男子だけのデータを取り出します。[]の中を記述してください。\n",
    "data_male = data[]\n",
    "\n",
    "#男子の身長データ,体重データを取り出します。[]の中を記述してください。\n",
    "male_height = data_male[]\n",
    "male_weight = data_male[]\n",
    "\n",
    "#女子だけのデータを取り出します。[]の中を記述してください。\n",
    "data_female = data[]\n",
    "\n",
    "#女子の身長データと体重データを取り出します。[]の中を記述してください。\n",
    "female_height = data_female[]\n",
    "female_weight = data_female[]\n",
    "\n",
    "#取り出したデータをプロットしてください。( 全てplt.~~の中の~~の部分を記述してください。)\n",
    "\n",
    "plt.~~  #男子のデータの散布図を､ラベルを指定してプロットしてください。\n",
    "plt.~~  #女子のデータの散布図を､ラベルを指定してプロットしてください。\n",
    "plt.~~  #グラフのタイトルを表示させてください。\n",
    "plt.~~  #x軸のラベルを表示させてください。\n",
    "plt.~~  #y軸のラベルを表示させてください。\n",
    "plt.~~  #凡例を表示させてください。\n",
    "\n",
    "plt.show()"
   ]
  }
 ],
 "metadata": {
  "kernelspec": {
   "display_name": "Python 3",
   "language": "python",
   "name": "python3"
  },
  "language_info": {
   "codemirror_mode": {
    "name": "ipython",
    "version": 3
   },
   "file_extension": ".py",
   "mimetype": "text/x-python",
   "name": "python",
   "nbconvert_exporter": "python",
   "pygments_lexer": "ipython3",
   "version": "3.5.1"
  }
 },
 "nbformat": 4,
 "nbformat_minor": 2
}
